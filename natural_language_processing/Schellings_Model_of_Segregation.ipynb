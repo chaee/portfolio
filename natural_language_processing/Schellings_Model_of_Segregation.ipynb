{
 "cells": [
  {
   "cell_type": "markdown",
   "metadata": {
    "id": "aSsy5cScqXgy"
   },
   "source": [
    "# Schelling's Model of Segregation"
   ]
  },
  {
   "cell_type": "code",
   "execution_count": 2,
   "metadata": {
    "colab": {
     "base_uri": "https://localhost:8080/"
    },
    "id": "39yQen8vqXg6",
    "outputId": "e4216221-e562-40da-ddf7-0e661b33c4f6"
   },
   "outputs": [],
   "source": [
    "import numpy as np\n",
    "import pandas as pd\n",
    "from typing import List, Optional, Tuple, Dict, Callable\n",
    "import random as rand\n",
    "from matplotlib import pyplot as plt\n",
    "import seaborn as sns\n",
    "import statsmodels.api as sm"
   ]
  },
  {
   "cell_type": "code",
   "execution_count": 3,
   "metadata": {
    "id": "TJrG1uE8rBzw"
   },
   "outputs": [],
   "source": [
    "# load dataset from drive \n",
    "#from google.colab import drive\n",
    "#drive.mount('/content/drive')"
   ]
  },
  {
   "cell_type": "markdown",
   "metadata": {
    "id": "aBqWVjotqXg9"
   },
   "source": [
    "A simulation of Schelling's model of segregation is implemented.  \n",
    "A concise explanation on how the model is specified as well as another simulation can, for instance, be found here:\n",
    "\n",
    "http://nifty.stanford.edu/2014/mccown-schelling-model-segregation/"
   ]
  },
  {
   "cell_type": "markdown",
   "metadata": {
    "id": "BYDZFu_FqXg-"
   },
   "source": [
    "#### Grid Creation \n",
    "First I created a 2D grid in which the simulation will take place. A function returns a numpy array of the given shape (rows, columns). Cells with a red agent are marked with the value 1, cells with a blue agent with value 2, empty cells with a 0."
   ]
  },
  {
   "cell_type": "code",
   "execution_count": 7,
   "metadata": {
    "id": "6Y5AxbpvqXg-"
   },
   "outputs": [],
   "source": [
    "def init_grid(shape: Tuple[int,int], share_red: float, share_blue: float) -> np.ndarray:\n",
    "    \"\"\"\n",
    "    :param shape: integer tuple, shape of grid\n",
    "    :param share_red: percent share of red nodes in the data\n",
    "    :param share_blue: percent share of blue nodes in the data \n",
    "    :                : -> note that blue+red shares should be <1 as empty cells are needed\n",
    "    :return: 2D numpy array\n",
    "    \"\"\"\n",
    "    \n",
    "    # check that red + blue < 1\n",
    "    if share_red + share_blue >= 1:\n",
    "        raise ValueError('share_red + share_blue must be < 1')\n",
    "    \n",
    "    # initialize grid with given shape\n",
    "    rows,cols = shape\n",
    "    grid = np.zeros(shape=shape, dtype=int)\n",
    "    num_red = round(share_red * grid.size)\n",
    "    num_blue = round(share_blue * grid.size)\n",
    "    \n",
    "    # randomly fill in grid with red, then blue agents\n",
    "    while(num_red > 0):\n",
    "        r = rand.randrange(rows)\n",
    "        c = rand.randrange(cols)\n",
    "        if grid[r][c] == 0:\n",
    "            grid[r][c] = 1 # red\n",
    "            num_red -= 1\n",
    "    while(num_blue > 0):\n",
    "        r = rand.randrange(rows)\n",
    "        c = rand.randrange(cols)\n",
    "        if grid[r][c] == 0:\n",
    "            grid[r][c] = 2 # blue\n",
    "            num_blue -= 1\n",
    "\n",
    "    return grid\n",
    "    \n",
    "    raise NotImplementedError"
   ]
  },
  {
   "cell_type": "markdown",
   "metadata": {
    "id": "0l5lLR-zqXg_"
   },
   "source": [
    "#### b) Visualization\n",
    "\n",
    "A grid with $30x30$ rows/colums, 40% red cells, 50% blue cells, and 10% empty cells is created and saved into a variable called ```initial_grid```. Further, a visualization marks empty cells being white, cells of red agents as red, and cells of blue agents as blue."
   ]
  },
  {
   "cell_type": "code",
   "execution_count": 8,
   "metadata": {
    "colab": {
     "base_uri": "https://localhost:8080/",
     "height": 252
    },
    "id": "s68M7gtJqXg_",
    "outputId": "5d84beb2-c358-487e-d50b-4de7d68399fd"
   },
   "outputs": [
    {
     "data": {
      "image/png": "[encoded data removed]",
      "text/plain": [
       "<Figure size 432x288 with 1 Axes>"
      ]
     },
     "metadata": {
      "needs_background": "light"
     },
     "output_type": "display_data"
    }
   ],
   "source": [
    "initial_grid = init_grid((30,30), 0.4, 0.5)\n",
    "\n",
    "# assign colors to values\n",
    "cmap = {0:np.array([255,255,255]), #white\n",
    "        1:np.array([255,0,0]), #red\n",
    "        2:np.array([0,0,255])} #blue\n",
    "# create a 3d array to hold color dimension\n",
    "grid_3d = np.ndarray(shape=(initial_grid.shape[0],initial_grid.shape[1], 3), dtype=int)\n",
    "for i in range (0, initial_grid.shape[0]):\n",
    "    for j in range (0, initial_grid.shape[1]):\n",
    "        grid_3d[i][j] = cmap[initial_grid[i][j]]\n",
    "\n",
    "plt.imshow(grid_3d)\n",
    "ax = plt.gca()\n",
    "ax.set_xticks(np.arange(-.6, 29, 1))\n",
    "ax.set_yticks(np.arange(-.6, 29, 1))\n",
    "ax.set_xticklabels([])\n",
    "ax.set_yticklabels([])\n",
    "ax.grid(color='black',linestyle='-',linewidth=1)\n",
    "plt.savefig('initial_grid.png')\n",
    "\n",
    "# used the site below for help coloring the grid: \n",
    "# https://stackoverflow.com/questions/37719304/python-imshow-set-certain-value-to-defined-color\n",
    "# used the site below for help adding grid lines in the right places: \n",
    "# https://www.tutorialspoint.com/adjusting-gridlines-and-ticks-in-matplotlib-imshow"
   ]
  },
  {
   "cell_type": "markdown",
   "metadata": {
    "id": "dmQhnOh-qXg_"
   },
   "source": [
    "#### c) The Update Step \n",
    "\n",
    "A function performs a single update step of Schelling's model. In that scenario, each step should work as follows:\n",
    "* first, one iterates over the full grid to identify all agents that are currently not satisfied. Recall: an agent is satisfied if a fraction $\\geq pp$ of their neighbors is from the same group, with $pp$ denoting the preferred proportion.\n",
    "* afterwards, these unhappy agents are relocated in sequence to a randomly chosen empty cell. In that process, the cell that one agents leaves becomes vacated and should become available as empty cell for the next unsatisfied agent. Conversely, after moving to an empty cell, this cell is then occupied and not available for relocation anymore. While relocating, one does not check anymore whether the agent would be satisfied in the new location.\n",
    "\n",
    "This function returns a boolean variable which returns `True` if and only if all agents of the input grid were satisfied."
   ]
  },
  {
   "cell_type": "code",
   "execution_count": 9,
   "metadata": {
    "id": "0OqgqtHgqXhA"
   },
   "outputs": [],
   "source": [
    "def schelling_step(grid: np.ndarray, pp: float) -> Tuple[bool, np.ndarray]:\n",
    "    \"\"\"\n",
    "    :param grid: 2D numpy array specifying the current state (grid) in the simulation\n",
    "    :param pp: preferred poportion of neighbors of own class, should be between 0 and 1\n",
    "    :\n",
    "    :return: 1. bool specifying whether or not simulation has converged, i.e., all agents are satisfied\n",
    "    :        2. 2D numpy array that specifies the state of the grid after the update step ->  \n",
    "    \"\"\"\n",
    "    grid_copy = np.copy(grid)\n",
    "    # identify agents that are not satisfied\n",
    "    unsat_agents = []\n",
    "    empty_cells = []\n",
    "    for row in range(0, grid_copy.shape[0]):\n",
    "        for col in range(0, grid_copy.shape[1]):\n",
    "            if grid_copy[row][col]==0: #empty cell\n",
    "                empty_cells.append([row,col])\n",
    "            else:\n",
    "                nbrs = find_nbrs(grid_copy, row, col)\n",
    "                if (sat_agent(nbrs, pp, grid_copy[row][col]) == False): #if central agent is not satisfied\n",
    "                    # add unsatisfied agent to list\n",
    "                    unsat_agents.append([row,col]) #[row,col] is a list, (row,col) is a tuple\n",
    "                else:\n",
    "                    continue\n",
    "    \n",
    "    # relocate each unsatisfied agent to randomly chosen empty cells\n",
    "    for agent in unsat_agents:\n",
    "        # randomly choose empty cell\n",
    "        new_location = rand.choice(empty_cells)\n",
    "        empty_cells.remove(new_location)\n",
    "        # relocate agent\n",
    "        agent_color = grid_copy[agent[0]][agent[1]]\n",
    "        grid_copy[agent[0]][agent[1]] = 0 # agent moves out\n",
    "        empty_cells.append(agent) # append agent's old location to list of empty cells\n",
    "        grid_copy[new_location[0]][new_location[1]] = agent_color # agent moves in\n",
    "        \n",
    "    # check if all agents are now satisfied\n",
    "    satisfaction = True\n",
    "    for row in range(0, grid_copy.shape[0]):\n",
    "        for col in range(0, grid_copy.shape[1]):\n",
    "            if grid_copy[row][col]!=0: #non-empty cells\n",
    "                nbrs = find_nbrs(grid_copy, row, col)\n",
    "                if (sat_agent(nbrs, pp, grid_copy[row][col]) == False):\n",
    "                    satisfaction = False\n",
    "\n",
    "    return (satisfaction, grid_copy)\n",
    "    \n",
    "    raise NotImplementedError\n",
    "    \n",
    "def find_nbrs(grid: np.ndarray, row:int, col:int) -> np.ndarray:\n",
    "    \"\"\"\n",
    "    :param grid: 2D numpy array containing all agents\n",
    "    :param row: indicating central agent's row position in grid\n",
    "    :param col: indicating central agent's column position in grid\n",
    "    :return: numpy array containing central agent and its neighbours \n",
    "    \"\"\"\n",
    "    # set boundaries\n",
    "    left = max(0, row-1)\n",
    "    right = min(row+2, grid.shape[0])\n",
    "    bottom = max(0, col-1)\n",
    "    top = min(col+2, grid.shape[1])\n",
    "    # find neighbours\n",
    "    nbrs = grid[left:right, bottom:top]\n",
    "    return nbrs\n",
    "\n",
    "def sat_agent(nbrs:np.ndarray, pp:float, agent_class:int) -> bool:\n",
    "    \"\"\" \n",
    "    :param nbrs: 2D numpy array containing central agent and its neighbours (max 3x3 cells)\n",
    "    :param pp: preferred proportion of neighbours of its own class (0 < pp < 1)\n",
    "    :param agent_class: central agent class\n",
    "    :return: bool specifying whether the central agent is satisfied given pp and its neighbours\n",
    "    \"\"\"\n",
    "    # count number of blue and red agents in nbrs\n",
    "    red_nbrs = 0\n",
    "    blue_nbrs = 0\n",
    "    for row in range(0, nbrs.shape[0]):\n",
    "        for col in range(0, nbrs.shape[1]):\n",
    "            if nbrs[row][col]==1: #red\n",
    "                red_nbrs+=1\n",
    "            elif nbrs[row][col]==2: #blue\n",
    "                blue_nbrs+=1\n",
    "\n",
    "    # compare proportion of ingroup neighbours (same class) to preferred proportion pp\n",
    "    num_nbrs = red_nbrs + blue_nbrs - 1 #total number of neighbours (-1 to exclude central agent)\n",
    "    if num_nbrs > 0:\n",
    "        if agent_class == 1: #red\n",
    "            red_nbrs-=1\n",
    "            if (red_nbrs/num_nbrs) >= pp:\n",
    "                return True\n",
    "            else: return False\n",
    "        elif agent_class == 2: #blue\n",
    "            blue_nbrs-=1\n",
    "            if (blue_nbrs/num_nbrs) >= pp:\n",
    "                return True \n",
    "            else: return False\n",
    "    elif num_nbrs == 0: #only central agent\n",
    "        return True"
   ]
  },
  {
   "cell_type": "markdown",
   "metadata": {
    "id": "1dHAd4lHqXhA"
   },
   "source": [
    "#### d) A Full Simulation of Schelling's Model \n",
    "\n",
    "A function performs a full simulation of Schelling's model given a specific initial state, by performing steps until the maximum number of steps `n_max` is reached or if the model has converged, i.e., all agents are now satisfied. "
   ]
  },
  {
   "cell_type": "code",
   "execution_count": 10,
   "metadata": {
    "id": "3q-34pGLqXhB"
   },
   "outputs": [],
   "source": [
    "def simulate_schelling(grid: np.ndarray, pp: float, n_max: int) -> np.ndarray:\n",
    "    \"\"\"\n",
    "    :param grid: initial grid to start simulation with (2D numpy array)\n",
    "    :param pp: preferred poportion of neighbors of own class\n",
    "    :param n_max: maximum number of iteration steps\n",
    "    :\n",
    "    :return: 2D numpy array\n",
    "    \"\"\"\n",
    "    \n",
    "    num_steps = 0\n",
    "    current_grid = grid\n",
    "    while(num_steps < n_max):\n",
    "        step_result = schelling_step(current_grid, pp)\n",
    "        current_grid = step_result[1] # update current grid\n",
    "        if step_result[0]: # grid converged: all agents satisfied \n",
    "            print('number of steps completed:', num_steps)\n",
    "            return current_grid\n",
    "        else:\n",
    "            num_steps+=1\n",
    "    print('number of steps completed:', num_steps)\n",
    "    return current_grid\n",
    "    \n",
    "    raise NotImplementedError"
   ]
  },
  {
   "cell_type": "markdown",
   "metadata": {
    "id": "CCuVRqZWqXhB"
   },
   "source": [
    "#### e) Running a Full Simulation\n",
    "\n",
    "Implementation from d) on the `initial_grid` created in b) is applied to run the model with a preferred proportion `pp=0.5` for up to `n_max=100` steps."
   ]
  },
  {
   "cell_type": "code",
   "execution_count": 11,
   "metadata": {
    "colab": {
     "base_uri": "https://localhost:8080/",
     "height": 269
    },
    "id": "l7k-FXsCqXhB",
    "outputId": "a5f77f44-a04b-46c1-a7e2-4830f5cfc9bb"
   },
   "outputs": [
    {
     "name": "stdout",
     "output_type": "stream",
     "text": [
      "number of steps completed: 14\n"
     ]
    },
    {
     "data": {
      "image/png": "[encoded data removed]",
      "text/plain": [
       "<Figure size 432x288 with 1 Axes>"
      ]
     },
     "metadata": {
      "needs_background": "light"
     },
     "output_type": "display_data"
    }
   ],
   "source": [
    "final_grid = simulate_schelling(initial_grid, 0.5, 100)\n",
    "\n",
    "# assign colors to values\n",
    "cmap = {0:np.array([255,255,255]), #white\n",
    "        1:np.array([255,0,0]), #red\n",
    "        2:np.array([0,0,255])} #blue\n",
    "# create a 3d array to hold color dimension\n",
    "final_grid_3d = np.ndarray(shape=(final_grid.shape[0],final_grid.shape[1], 3), dtype=int)\n",
    "for i in range(0, final_grid.shape[0]):\n",
    "    for j in range(0, final_grid.shape[1]):\n",
    "        final_grid_3d[i][j] = cmap[final_grid[i][j]]\n",
    "\n",
    "plt.imshow(final_grid_3d)\n",
    "ax = plt.gca()\n",
    "ax.set_xticks(np.arange(-.6, 29, 1))\n",
    "ax.set_yticks(np.arange(-.6, 29, 1))\n",
    "ax.set_xticklabels([])\n",
    "ax.set_yticklabels([])\n",
    "ax.grid(color='black',linestyle='-',linewidth=1)\n",
    "plt.savefig('final_grid.png')\n",
    "\n",
    "# used the site below for help coloring the grid: \n",
    "# https://stackoverflow.com/questions/37719304/python-imshow-set-certain-value-to-defined-color\n",
    "# used the site below for help adding grid lines in the right places: \n",
    "# https://www.tutorialspoint.com/adjusting-gridlines-and-ticks-in-matplotlib-imshow"
   ]
  }
 ],
 "metadata": {
  "colab": {
   "collapsed_sections": [],
   "name": "SDS_home_assignment_2.ipynb",
   "provenance": []
  },
  "kernelspec": {
   "display_name": "Python 3",
   "language": "python",
   "name": "python3"
  },
  "language_info": {
   "codemirror_mode": {
    "name": "ipython",
    "version": 3
   },
   "file_extension": ".py",
   "mimetype": "text/x-python",
   "name": "python",
   "nbconvert_exporter": "python",
   "pygments_lexer": "ipython3",
   "version": "3.8.3"
  },
  "toc": {
   "base_numbering": 1,
   "nav_menu": {},
   "number_sections": true,
   "sideBar": true,
   "skip_h1_title": false,
   "title_cell": "Table of Contents",
   "title_sidebar": "Contents",
   "toc_cell": false,
   "toc_position": {},
   "toc_section_display": true,
   "toc_window_display": false
  }
 },
 "nbformat": 4,
 "nbformat_minor": 1
}
