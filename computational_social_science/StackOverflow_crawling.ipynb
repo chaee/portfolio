{
 "cells": [
  {
   "cell_type": "markdown",
   "metadata": {},
   "source": [
    "# Crawling StackOverflow\n",
    "This project retrieves questions and answers on the `stackoverflow` platform, using `BeautifulSoup` and `requests` packages.\n",
    "\n",
    "## a) Simple spider\n",
    "\n",
    "A function `get_questions` takes a tag (like `\"data-mining\"`) and a number `n` and returns a list containing the hyperlinks (as strings) to the top n questions by votes for the given tag. It assumes the tag always exists.\n",
    "\n",
    "The first link for \"data-mining\" is: https://stackoverflow.com/questions/12146914/what-is-the-difference-between-linear-regression-and-logistic-regression "
   ]
  },
  {
   "cell_type": "code",
   "execution_count": 2,
   "metadata": {},
   "outputs": [],
   "source": [
    "from typing import List, Dict\n",
    "from bs4 import BeautifulSoup\n",
    "import requests\n",
    "import time\n",
    "from tqdm.notebook import tqdm"
   ]
  },
  {
   "cell_type": "code",
   "execution_count": 3,
   "metadata": {
    "scrolled": true
   },
   "outputs": [
    {
     "name": "stdout",
     "output_type": "stream",
     "text": [
      "300 ['https://stackoverflow.com/questions/2480650/what-is-the-role-of-the-bias-in-neural-networks', 'https://stackoverflow.com/questions/879432/what-is-the-difference-between-a-generative-and-a-discriminative-algorithm', 'https://stackoverflow.com/questions/33759623/tensorflow-how-to-save-restore-a-model', 'https://stackoverflow.com/questions/10059594/a-simple-explanation-of-naive-bayes-classification', 'https://stackoverflow.com/questions/307291/how-does-the-google-did-you-mean-algorithm-work', 'https://stackoverflow.com/questions/4752626/epoch-vs-iteration-when-training-neural-networks', 'https://stackoverflow.com/questions/34240703/what-are-logits-what-is-the-difference-between-softmax-and-softmax-cross-entrop', 'https://stackoverflow.com/questions/11632516/what-are-advantages-of-artificial-neural-networks-over-support-vector-machines', 'https://stackoverflow.com/questions/41455101/what-is-the-meaning-of-the-word-logits-in-tensorflow', 'https://stackoverflow.com/questions/1832076/what-is-the-difference-between-supervised-learning-and-unsupervised-learning', 'https://stackoverflow.com/questions/12146914/what-is-the-difference-between-linear-regression-and-logistic-regression', 'https://stackoverflow.com/questions/29831489/convert-array-of-indices-to-1-hot-encoded-numpy-array', 'https://stackoverflow.com/questions/34968722/how-to-implement-the-softmax-function-in-python', 'https://stackoverflow.com/questions/34518656/how-to-interpret-loss-and-accuracy-for-a-machine-learning-model', 'https://stackoverflow.com/questions/13610074/is-there-a-rule-of-thumb-for-how-to-divide-a-dataset-into-training-and-validatio', 'https://stackoverflow.com/questions/2595176/which-machine-learning-classifier-to-choose-in-general', 'https://stackoverflow.com/questions/10592605/save-classifier-to-disk-in-scikit-learn', 'https://stackoverflow.com/questions/598726/overwhelmed-by-machine-learning-is-there-an-ml101-book', 'https://stackoverflow.com/questions/5064928/difference-between-classification-and-clustering-in-data-mining', 'https://stackoverflow.com/questions/42081257/why-binary-crossentropy-and-categorical-crossentropy-give-different-performances', 'https://stackoverflow.com/questions/5529625/is-it-possible-to-specify-your-own-distance-function-using-scikit-learn-k-means', 'https://stackoverflow.com/questions/38250710/how-to-split-data-into-3-sets-train-validation-and-test', 'https://stackoverflow.com/questions/20224526/how-to-extract-the-decision-rules-from-scikit-learn-decision-tree', 'https://stackoverflow.com/questions/5751114/nearest-neighbors-in-high-dimensional-data', 'https://stackoverflow.com/questions/37292872/how-can-i-one-hot-encode-in-python', 'https://stackoverflow.com/questions/4674623/why-do-we-have-to-normalize-the-input-for-an-artificial-neural-network', 'https://stackoverflow.com/questions/12952729/how-to-understand-locality-sensitive-hashing', 'https://stackoverflow.com/questions/35677724/tensorflow-why-was-python-the-chosen-language', 'https://stackoverflow.com/questions/42883547/intuitive-understanding-of-1d-2d-and-3d-convolutions-in-convolutional-neural-n', 'https://stackoverflow.com/questions/9782071/why-must-a-nonlinear-activation-function-be-used-in-a-backpropagation-neural-net', 'https://stackoverflow.com/questions/37987839/how-can-i-run-tensorboard-on-a-remote-server', 'https://stackoverflow.com/questions/49433936/how-to-initialize-weights-in-pytorch', 'https://stackoverflow.com/questions/38340311/what-is-the-difference-between-steps-and-epochs-in-tensorflow', 'https://stackoverflow.com/questions/43237124/what-is-the-role-of-flatten-in-keras', 'https://stackoverflow.com/questions/6542274/how-to-train-an-artificial-neural-network-to-play-diablo-2-using-visual-input', 'https://stackoverflow.com/questions/1402370/when-should-i-use-genetic-algorithms-as-opposed-to-neural-networks', 'https://stackoverflow.com/questions/33091376/what-is-exactly-sklearn-pipeline-pipeline', 'https://stackoverflow.com/questions/9294926/how-does-apple-find-dates-times-and-addresses-in-emails', 'https://stackoverflow.com/questions/43034960/many-to-one-and-many-to-many-lstm-examples-in-keras', 'https://stackoverflow.com/questions/17469835/why-does-one-hot-encoding-improve-machine-learning-performance', 'https://stackoverflow.com/questions/31421413/how-to-compute-precision-recall-accuracy-and-f1-score-for-the-multiclass-case', 'https://stackoverflow.com/questions/48750199/google-colaboratory-misleading-information-about-its-gpu-only-5-ram-available', 'https://stackoverflow.com/questions/1624060/machine-learning-libraries-in-c-sharp', 'https://stackoverflow.com/questions/40758562/can-anyone-explain-me-standardscaler', 'https://stackoverflow.com/questions/11808074/what-is-an-intuitive-explanation-of-the-expectation-maximization-technique', 'https://stackoverflow.com/questions/20027598/why-should-weights-of-neural-networks-be-initialized-to-random-numbers', 'https://stackoverflow.com/questions/37370015/what-is-the-difference-between-value-iteration-and-policy-iteration', 'https://stackoverflow.com/questions/40898019/what-is-the-difference-between-a-feature-and-a-label', 'https://stackoverflow.com/questions/10565868/multi-layer-perceptron-mlp-architecture-criteria-for-choosing-number-of-hidde', 'https://stackoverflow.com/questions/40690598/can-keras-with-tensorflow-backend-be-forced-to-use-cpu-or-gpu-at-will', 'https://stackoverflow.com/questions/36631163/what-are-the-pros-and-cons-between-get-dummies-pandas-and-onehotencoder-sciki', 'https://stackoverflow.com/questions/36498127/how-to-apply-gradient-clipping-in-tensorflow', 'https://stackoverflow.com/questions/41990250/what-is-cross-entropy', 'https://stackoverflow.com/questions/43196636/how-to-concatenate-two-layers-in-keras', 'https://stackoverflow.com/questions/35074549/how-to-load-a-model-from-an-hdf5-file-in-keras', 'https://stackoverflow.com/questions/36274638/what-is-the-map-metric-and-how-is-it-calculated', 'https://stackoverflow.com/questions/40050397/deep-learning-nan-loss-reasons', 'https://stackoverflow.com/questions/27860652/word2vec-negative-sampling-in-layman-term', 'https://stackoverflow.com/questions/12118720/python-tf-idf-cosine-to-find-document-similarity', 'https://stackoverflow.com/questions/26355942/why-is-the-f-measure-a-harmonic-mean-and-not-an-arithmetic-mean-of-the-precision', 'https://stackoverflow.com/questions/2620343/what-is-machine-learning', 'https://stackoverflow.com/questions/45554008/error-in-python-script-expected-2d-array-got-1d-array-instead', 'https://stackoverflow.com/questions/34236252/what-is-the-difference-between-np-mean-and-tf-reduce-mean', 'https://stackoverflow.com/questions/44495698/keras-difference-between-kernel-and-activity-regularizers', 'https://stackoverflow.com/questions/40666316/how-to-get-tensorflow-tensor-dimensions-shape-as-int-values', 'https://stackoverflow.com/questions/33962226/common-causes-of-nans-during-training', 'https://stackoverflow.com/questions/47305618/what-is-the-role-of-timedistributed-layer-in-keras', 'https://stackoverflow.com/questions/20414667/cocktail-party-algorithm-svd-implementation-in-one-line-of-code', 'https://stackoverflow.com/questions/573768/sentiment-analysis-for-twitter-in-python', 'https://stackoverflow.com/questions/17352469/how-can-i-build-a-model-to-distinguish-tweets-about-apple-inc-from-tweets-abo', 'https://stackoverflow.com/questions/45068568/how-to-create-a-new-gym-environment-in-openai', 'https://stackoverflow.com/questions/8849869/how-do-i-find-wally-with-python', 'https://stackoverflow.com/questions/37293642/how-to-tell-keras-stop-training-based-on-loss-value', 'https://stackoverflow.com/questions/27697766/understanding-min-df-and-max-df-in-scikit-countvectorizer', 'https://stackoverflow.com/questions/10136470/unsupervised-clustering-with-unknown-number-of-clusters', 'https://stackoverflow.com/questions/22984335/recovering-features-names-of-explained-variance-ratio-in-pca-with-sklearn', 'https://stackoverflow.com/questions/40761185/what-is-the-intuition-of-using-tanh-in-lstm', 'https://stackoverflow.com/questions/2196124/detecting-patterns-in-waves', 'https://stackoverflow.com/questions/19984957/scikit-learn-predict-default-threshold', 'https://stackoverflow.com/questions/41061457/keras-how-to-save-the-training-history-attribute-of-the-history-object', 'https://stackoverflow.com/questions/35050753/how-big-should-batch-size-and-number-of-epochs-be-when-fitting-a-model-in-keras', 'https://stackoverflow.com/questions/32109319/how-to-implement-the-relu-function-in-numpy', 'https://stackoverflow.com/questions/9480605/what-is-the-relation-between-the-number-of-support-vectors-and-training-data-and', 'https://stackoverflow.com/questions/38015181/accuracy-score-valueerror-cant-handle-mix-of-binary-and-continuous-target', 'https://stackoverflow.com/questions/31324218/scikit-learn-how-to-obtain-true-positive-true-negative-false-positive-and-fal', 'https://stackoverflow.com/questions/3345079/estimating-the-number-of-neurons-and-number-of-layers-of-an-artificial-neural-ne', 'https://stackoverflow.com/questions/43035827/whats-the-difference-between-a-bidirectional-lstm-and-an-lstm', 'https://stackoverflow.com/questions/38553927/batch-normalization-in-convolutional-neural-network', 'https://stackoverflow.com/questions/3775032/how-to-update-the-bias-in-neural-network-backpropagation', 'https://stackoverflow.com/questions/2148543/how-to-write-a-confusion-matrix-in-python', 'https://stackoverflow.com/questions/42763094/how-to-save-final-model-using-keras', 'https://stackoverflow.com/questions/13336576/extracting-an-information-from-web-page-by-machine-learning', 'https://stackoverflow.com/questions/37383812/tensorflow-module-object-has-no-attribute-placeholder', 'https://stackoverflow.com/questions/10554052/what-are-the-major-differences-and-benefits-of-porter-and-lancaster-stemming-alg', 'https://stackoverflow.com/questions/18191890/why-gradient-descent-when-we-can-solve-linear-regression-analytically', 'https://stackoverflow.com/questions/33681517/tensorflow-one-hot-encoder', 'https://stackoverflow.com/questions/14254203/mixing-categorial-and-continuous-data-in-naive-bayes-classifier-using-scikit-lea', 'https://stackoverflow.com/questions/18541923/what-is-out-of-bag-error-in-random-forests', 'https://stackoverflow.com/questions/11116697/how-to-get-most-informative-features-for-scikit-learn-classifiers', 'https://stackoverflow.com/questions/19170603/what-is-the-difference-between-labeled-and-unlabeled-data', 'https://stackoverflow.com/questions/3473612/ways-to-improve-the-accuracy-of-a-naive-bayes-classifier', 'https://stackoverflow.com/questions/2268885/machine-learning-in-ocaml-or-haskell', 'https://stackoverflow.com/questions/12066761/what-is-the-difference-between-gradient-descent-and-newtons-gradient-descent', 'https://stackoverflow.com/questions/38286717/tensorflow-regularization-with-l2-loss-how-to-apply-to-all-weights-not-just', 'https://stackoverflow.com/questions/1697243/perceptron-learning-algorithm-not-converging-to-0', 'https://stackoverflow.com/questions/4629505/svm-hard-or-soft-margins', 'https://stackoverflow.com/questions/54307225/whats-the-difference-between-torch-stack-and-torch-cat-functions', 'https://stackoverflow.com/questions/35151207/how-to-interpret-poolallocator-messages-in-tensorflow', 'https://stackoverflow.com/questions/11752727/pattern-recognition-in-time-series', 'https://stackoverflow.com/questions/53975717/pytorch-connection-between-loss-backward-and-optimizer-step', 'https://stackoverflow.com/questions/10722064/training-a-neural-network-with-reinforcement-learning', 'https://stackoverflow.com/questions/17784587/gradient-descent-using-python-and-numpy', 'https://stackoverflow.com/questions/35655267/what-is-inductive-bias-in-machine-learning', 'https://stackoverflow.com/questions/11477145/open-source-neural-network-library', 'https://stackoverflow.com/questions/45463778/instance-normalisation-vs-batch-normalisation', 'https://stackoverflow.com/questions/34007308/linear-regression-analysis-with-string-categorical-features-variables', 'https://stackoverflow.com/questions/36946671/keras-model-summary-result-understanding-the-of-parameters', 'https://stackoverflow.com/questions/7694978/how-to-approach-a-number-guessing-game-with-a-twist-algorithm', 'https://stackoverflow.com/questions/60018578/what-does-model-eval-do-in-pytorch', 'https://stackoverflow.com/questions/44560549/unbalanced-data-and-weighted-cross-entropy', 'https://stackoverflow.com/questions/59013109/runtimeerror-input-type-torch-floattensor-and-weight-type-torch-cuda-floatte', 'https://stackoverflow.com/questions/30317119/classifiers-in-scikit-learn-that-handle-nan-null', 'https://stackoverflow.com/questions/8068040/resources-for-working-with-machine-learning-in-f', 'https://stackoverflow.com/questions/37668902/evaluation-calculate-top-n-accuracy-top-1-and-top-5', 'https://stackoverflow.com/questions/1766461/how-are-neural-networks-used-when-the-number-of-inputs-could-be-variable', 'https://stackoverflow.com/questions/2074956/logo-recognition-in-images', 'https://stackoverflow.com/questions/43691380/how-to-save-load-xgboost-model', 'https://stackoverflow.com/questions/48225729/importerrorcould-not-import-pil-image-working-with-keras-ternsorflow', 'https://stackoverflow.com/questions/44477489/keras-difference-between-categorical-accuracy-and-sparse-categorical-accuracy', 'https://stackoverflow.com/questions/33094056/is-it-possible-to-append-series-to-rows-of-dataframe-without-making-a-list-first', 'https://stackoverflow.com/questions/31159157/different-result-with-roc-auc-score-and-auc', 'https://stackoverflow.com/questions/7551262/training-data-for-sentiment-analysis', 'https://stackoverflow.com/questions/34052115/how-to-find-the-importance-of-the-features-for-a-logistic-regression-model', 'https://stackoverflow.com/questions/55531427/how-to-define-max-queue-size-workers-and-use-multiprocessing-in-keras-fit-gener', 'https://stackoverflow.com/questions/44533148/converting-a-vision-vntextobservation-to-a-string', 'https://stackoverflow.com/questions/45735070/keras-text-preprocessing-saving-tokenizer-object-to-file-for-scoring', 'https://stackoverflow.com/questions/16858652/how-to-find-the-corresponding-class-in-clf-predict-proba', 'https://stackoverflow.com/questions/37425961/dummy-variables-when-not-all-categories-are-present', 'https://stackoverflow.com/questions/31155388/meaning-of-an-epoch-in-neural-networks-training', 'https://stackoverflow.com/questions/7451716/java-r-integration', 'https://stackoverflow.com/questions/38810424/how-does-one-debug-nan-values-in-tensorflow', 'https://stackoverflow.com/questions/1958267/how-to-do-multi-class-classification-using-support-vector-machines-svm', 'https://stackoverflow.com/questions/13623113/can-someone-explain-to-me-the-difference-between-a-cost-function-and-the-gradien', 'https://stackoverflow.com/questions/39303912/tfidfvectorizer-in-scikit-learn-valueerror-np-nan-is-an-invalid-document', 'https://stackoverflow.com/questions/22625396/cost-function-linear-regression-trying-to-avoid-hard-coding-theta-octave', 'https://stackoverflow.com/questions/4617365/what-is-a-learning-curve-in-machine-learning', 'https://stackoverflow.com/questions/39124676/show-progress-bar-for-each-epoch-during-batchwise-training-in-keras', 'https://stackoverflow.com/questions/30738623/normalize-a-feature-in-this-table', 'https://stackoverflow.com/questions/43979449/higher-validation-accuracy-than-training-accurracy-using-tensorflow-and-keras', 'https://stackoverflow.com/questions/48280873/what-is-the-difference-between-loss-function-and-metric-in-keras', 'https://stackoverflow.com/questions/46291253/what-is-the-difference-between-a-sigmoid-followed-by-the-cross-entropy-and-sigmo', 'https://stackoverflow.com/questions/38445982/how-to-log-keras-loss-output-to-a-file', 'https://stackoverflow.com/questions/12115087/octave-logistic-regression-difference-between-fmincg-and-fminunc', 'https://stackoverflow.com/questions/23056460/does-the-svm-in-sklearn-support-incremental-online-learning', 'https://stackoverflow.com/questions/42704283/adding-l1-l2-regularization-in-pytorch', 'https://stackoverflow.com/questions/37213388/keras-accuracy-does-not-change', 'https://stackoverflow.com/questions/45704226/what-does-fit-method-in-scikit-learn-do', 'https://stackoverflow.com/questions/4903092/calculate-auc-in-r', 'https://stackoverflow.com/questions/1148727/how-hard-is-it-to-implement-a-chess-engine', 'https://stackoverflow.com/questions/41704484/what-is-difference-between-tf-truncated-normal-and-tf-random-normal', 'https://stackoverflow.com/questions/2982929/plotting-results-of-hierarchical-clustering-ontop-of-a-matrix-of-data-in-python', 'https://stackoverflow.com/questions/43469281/how-to-predict-input-image-using-trained-model-in-keras', 'https://stackoverflow.com/questions/22851316/what-is-the-inverse-of-regularization-strength-in-logistic-regression-how-shoul', 'https://stackoverflow.com/questions/25609347/can-neural-networks-approximate-any-function-given-enough-hidden-neurons', 'https://stackoverflow.com/questions/36007883/tensorflow-attempting-to-use-uninitialized-value-in-variable-initialization', 'https://stackoverflow.com/questions/36243536/what-is-the-number-of-filter-in-cnn', 'https://stackoverflow.com/questions/2661778/tag-generation-from-a-text-content', 'https://stackoverflow.com/questions/33749735/how-to-install-xgboost-package-in-python-windows-platform', 'https://stackoverflow.com/questions/41993565/save-minmaxscaler-model-in-sklearn', 'https://stackoverflow.com/questions/54716377/how-to-do-gradient-clipping-in-pytorch', 'https://stackoverflow.com/questions/34785414/how-to-install-tensorflow-on-windows', 'https://stackoverflow.com/questions/36515202/in-which-cases-is-the-cross-entropy-preferred-over-the-mean-squared-error', 'https://stackoverflow.com/questions/10017086/save-naive-bayes-trained-classifier-in-nltk', 'https://stackoverflow.com/questions/1072097/pointers-to-some-good-svm-tutorial', 'https://stackoverflow.com/questions/472030/cool-project-to-use-a-genetic-algorithm-for', 'https://stackoverflow.com/questions/2190732/understanding-neural-network-backpropagation', 'https://stackoverflow.com/questions/3920759/unsupervised-sentiment-analysis', 'https://stackoverflow.com/questions/53033556/how-should-the-learning-rate-change-as-the-batch-size-change', 'https://stackoverflow.com/questions/34757653/why-does-scikitlearn-says-f1-score-is-ill-defined-with-fn-bigger-than-0', 'https://stackoverflow.com/questions/38176472/graph-write-pdfiris-pdf-attributeerror-list-object-has-no-attribute-writ', 'https://stackoverflow.com/questions/51995977/how-can-i-use-a-pre-trained-neural-network-with-grayscale-images', 'https://stackoverflow.com/questions/42191717/scikit-learn-random-state-in-splitting-dataset', 'https://stackoverflow.com/questions/52468956/how-do-i-visualize-a-net-in-pytorch', 'https://stackoverflow.com/questions/41175401/what-is-a-batch-in-tensorflow', 'https://stackoverflow.com/questions/37889914/what-is-a-projection-layer-in-the-context-of-neural-networks', 'https://stackoverflow.com/questions/34673396/what-does-the-standard-keras-model-output-mean-what-is-epoch-and-loss-in-keras', 'https://stackoverflow.com/questions/7058856/how-to-learn-mouse-movement', 'https://stackoverflow.com/questions/45113245/how-to-get-mini-batches-in-pytorch-in-a-clean-and-efficient-way', 'https://stackoverflow.com/questions/24617356/sklearn-sgdclassifier-partial-fit', 'https://stackoverflow.com/questions/20156951/how-do-i-find-which-attributes-my-tree-splits-on-when-using-scikit-learn', 'https://stackoverflow.com/questions/3539657/what-are-the-prerequisites-for-studying-machine-learning', 'https://stackoverflow.com/questions/19197715/scikit-learn-k-means-elbow-criterion', 'https://stackoverflow.com/questions/20463281/how-do-i-solve-overfitting-in-random-forest-of-python-sklearn', 'https://stackoverflow.com/questions/12182063/how-to-calculate-the-regularization-parameter-in-linear-regression', 'https://stackoverflow.com/questions/22920801/can-i-use-countvectorizer-in-scikit-learn-to-count-frequency-of-documents-that-w', 'https://stackoverflow.com/questions/34572177/labels-for-clustermap-in-seaborn', 'https://stackoverflow.com/questions/28232235/how-to-calculate-the-number-of-parameters-of-convolutional-neural-networks', 'https://stackoverflow.com/questions/49444262/normalize-data-before-or-after-split-of-training-and-testing-data', 'https://stackoverflow.com/questions/50796024/feature-variable-importance-after-a-pca-analysis', 'https://stackoverflow.com/questions/53580088/calculate-the-output-size-in-convolution-layer', 'https://stackoverflow.com/questions/38079853/how-can-i-implement-incremental-training-for-xgboost', 'https://stackoverflow.com/questions/7326958/how-can-i-classify-data-with-the-nearest-neighbor-algorithm-using-python', 'https://stackoverflow.com/questions/37146614/tensorboard-plot-training-and-validation-losses-on-the-same-graph', 'https://stackoverflow.com/questions/22309236/options-for-deploying-r-models-in-production', 'https://stackoverflow.com/questions/46422845/what-is-the-way-to-understand-proximal-policy-optimization-algorithm-in-rl', 'https://stackoverflow.com/questions/37953585/what-is-the-difference-between-sgd-and-back-propagation', 'https://stackoverflow.com/questions/44172162/f1-score-vs-roc-auc', 'https://stackoverflow.com/questions/45961428/make-a-custom-loss-function-in-keras', 'https://stackoverflow.com/questions/9979461/different-decision-tree-algorithms-with-comparison-of-complexity-or-performance', 'https://stackoverflow.com/questions/2233435/machine-learning-and-natural-language-processing', 'https://stackoverflow.com/questions/49100556/what-is-the-use-of-train-on-batch-in-keras', 'https://stackoverflow.com/questions/35837786/how-to-run-flask-with-gunicorn-in-multithreaded-mode', 'https://stackoverflow.com/questions/34702041/how-to-tell-which-keras-model-is-better', 'https://stackoverflow.com/questions/43529931/how-to-calculate-prediction-uncertainty-using-keras', 'https://stackoverflow.com/questions/44647258/lstm-autoencoder', 'https://stackoverflow.com/questions/26478000/converting-linearsvcs-decision-function-to-probabilities-scikit-learn-python', 'https://stackoverflow.com/questions/26225344/why-feature-scaling-in-svm', 'https://stackoverflow.com/questions/12067446/how-many-principal-components-to-take', 'https://stackoverflow.com/questions/48828478/how-do-you-use-keras-leakyrelu-in-python', 'https://stackoverflow.com/questions/36107820/how-to-tune-parameters-in-random-forest-using-scikit-learn', 'https://stackoverflow.com/questions/7098625/how-can-i-apply-reinforcement-learning-to-continuous-action-spaces', 'https://stackoverflow.com/questions/4743996/publicly-available-spam-filter-training-set', 'https://stackoverflow.com/questions/11055502/recommended-package-for-very-large-dataset-processing-and-machine-learning-in-r', 'https://stackoverflow.com/questions/49841324/what-does-calling-fit-multiple-times-on-the-same-model-do', 'https://stackoverflow.com/questions/42621864/difference-between-keras-model-save-and-model-save-weights', 'https://stackoverflow.com/questions/24545725/deep-belief-networks-vs-convolutional-neural-networks', 'https://stackoverflow.com/questions/20841167/how-to-predict-time-series-in-scikit-learn', 'https://stackoverflow.com/questions/47697622/cnn-image-resizing-vs-padding-keeping-aspect-ratio-or-not', 'https://stackoverflow.com/questions/3419400/real-world-typo-statistics', 'https://stackoverflow.com/questions/49390842/cross-entropy-in-pytorch', 'https://stackoverflow.com/questions/44151760/received-a-label-value-of-1-which-is-outside-the-valid-range-of-0-1-python', 'https://stackoverflow.com/questions/12632992/gridsearch-for-an-estimator-inside-a-onevsrestclassifier', 'https://stackoverflow.com/questions/36926140/how-to-convert-numpy-arrays-to-standard-tensorflow-format', 'https://stackoverflow.com/questions/13956435/setting-values-for-ntree-and-mtry-for-random-forest-regression-model', 'https://stackoverflow.com/questions/39814777/can-keras-deal-with-input-images-with-different-size', 'https://stackoverflow.com/questions/34597316/why-input-is-scaled-in-tf-nn-dropout-in-tensorflow', 'https://stackoverflow.com/questions/39263002/calling-fit-multiple-times-in-keras', 'https://stackoverflow.com/questions/44907377/what-is-epoch-in-keras-models-model-fit', 'https://stackoverflow.com/questions/41531695/how-does-keras-define-accuracy-and-loss', 'https://stackoverflow.com/questions/35365007/tensorflow-precision-recall-f1-score-and-confusion-matrix', 'https://stackoverflow.com/questions/40496069/reset-weights-in-keras-layer', 'https://stackoverflow.com/questions/5466323/how-could-one-implement-the-k-means-algorithm', 'https://stackoverflow.com/questions/43829711/what-is-the-correct-way-to-change-image-channel-ordering-between-channels-first', 'https://stackoverflow.com/questions/55627780/evaluating-pytorch-models-with-torch-no-grad-vs-model-eval', 'https://stackoverflow.com/questions/40533582/how-to-serve-a-spark-mllib-model', 'https://stackoverflow.com/questions/37649060/tensorflow-restoring-a-graph-and-model-then-running-evaluation-on-a-single-imag', 'https://stackoverflow.com/questions/50755706/plot-interactive-decision-tree-in-jupyter-notebook', 'https://stackoverflow.com/questions/26182980/can-anyone-give-a-real-life-example-of-supervised-learning-and-unsupervised-lear', 'https://stackoverflow.com/questions/48264656/load-s3-data-into-aws-sagemaker-notebook', 'https://stackoverflow.com/questions/40795141/pca-for-categorical-features', 'https://stackoverflow.com/questions/10177330/why-is-weight-vector-orthogonal-to-decision-plane-in-neural-networks', 'https://stackoverflow.com/questions/35876508/evaluate-multiple-scores-on-sklearn-cross-val-score', 'https://stackoverflow.com/questions/36967666/transform-scipy-sparse-csr-to-pandas', 'https://stackoverflow.com/questions/58565394/what-is-the-difference-between-sparse-categorical-crossentropy-and-categorical-c', 'https://stackoverflow.com/questions/38058774/scikit-learn-how-to-scale-back-the-y-predicted-result', 'https://stackoverflow.com/questions/34715055/choosing-between-geforce-or-quadro-gpus-to-do-machine-learning-via-tensorflow', 'https://stackoverflow.com/questions/2524608/machine-learning-algorithm-for-predicting-order-of-events', 'https://stackoverflow.com/questions/14813884/correlated-features-and-classification-accuracy', 'https://stackoverflow.com/questions/6615665/kmeans-without-knowing-the-number-of-clusters', 'https://stackoverflow.com/questions/1877505/how-to-pick-a-language-for-artificial-intelligence-programming', 'https://stackoverflow.com/questions/25889637/how-to-use-k-fold-cross-validation-in-a-neural-network', 'https://stackoverflow.com/questions/13976565/neural-networks-what-does-linearly-separable-mean', 'https://stackoverflow.com/questions/37849322/how-to-understand-the-term-tensor-in-tensorflow', 'https://stackoverflow.com/questions/36894191/how-to-get-a-normal-distribution-within-a-range-in-numpy', 'https://stackoverflow.com/questions/33664651/import-input-data-mnist-tensorflow-not-working', 'https://stackoverflow.com/questions/12150308/suggest-what-user-could-buy-if-he-already-has-something-in-the-cart', 'https://stackoverflow.com/questions/42821330/restore-original-text-from-keras-s-imdb-dataset', 'https://stackoverflow.com/questions/44788946/shuffling-training-data-with-lstm-rnn', 'https://stackoverflow.com/questions/13760967/machine-learning-big-data', 'https://stackoverflow.com/questions/47157526/resnet-100-accuracy-during-training-but-33-prediction-accuracy-with-the-same', 'https://stackoverflow.com/questions/30033096/what-is-lr-policy-in-caffe', 'https://stackoverflow.com/questions/35050846/xgboost-in-r-how-does-xgb-cv-pass-the-optimal-parameters-into-xgb-train', 'https://stackoverflow.com/questions/37487830/how-to-find-probability-distribution-and-parameters-for-real-data-python-3', 'https://stackoverflow.com/questions/44476706/what-is-the-difference-between-keras-model-evaluate-and-model-predict', 'https://stackoverflow.com/questions/35094899/tensorflow-operator-overloading', 'https://stackoverflow.com/questions/53654310/what-is-the-difference-between-upsampling2d-and-conv2dtranspose-functions-in-ker', 'https://stackoverflow.com/questions/9590114/importance-of-pca-or-svd-in-machine-learning', 'https://stackoverflow.com/questions/39120942/difference-between-standardscaler-and-normalizer-in-sklearn-preprocessing', 'https://stackoverflow.com/questions/22625765/candidate-elimination-algorithm', 'https://stackoverflow.com/questions/44674847/what-are-the-differences-between-all-these-cross-entropy-losses-in-keras-and-ten', 'https://stackoverflow.com/questions/53183865/unknown-initializer-glorotuniform-when-loading-keras-model', 'https://stackoverflow.com/questions/46260775/what-is-a-policy-in-reinforcement-learning', 'https://stackoverflow.com/questions/47868265/what-is-the-difference-between-an-embedding-layer-and-a-dense-layer', 'https://stackoverflow.com/questions/28403782/what-is-the-difference-between-back-propagation-and-feed-forward-neural-network', 'https://stackoverflow.com/questions/4811995/comparing-r-to-matlab-for-data-mining', 'https://stackoverflow.com/questions/35472712/how-to-split-data-on-balanced-training-set-and-test-set-on-sklearn', 'https://stackoverflow.com/questions/45890328/sklearn-metrics-for-multiclass-classification', 'https://stackoverflow.com/questions/46009619/keras-weighted-binary-crossentropy', 'https://stackoverflow.com/questions/9006993/how-to-make-virtual-organisms-learn-using-neural-networks', 'https://stackoverflow.com/questions/51797280/machine-learning-tensorflow-v-s-tensorflow-js-v-s-brain-js', 'https://stackoverflow.com/questions/41625252/altering-trained-images-to-train-neural-network', 'https://stackoverflow.com/questions/8963937/svm-and-neural-network', 'https://stackoverflow.com/questions/9299346/fastest-svm-implementation-usable-in-python', 'https://stackoverflow.com/questions/33372838/dealing-with-unbalanced-datasets-in-spark-mllib', 'https://stackoverflow.com/questions/2931318/playground-for-artificial-intelligence', 'https://stackoverflow.com/questions/32108179/linear-regression-normalization-vs-standardization', 'https://stackoverflow.com/questions/9720894/large-scale-machine-learning-python-or-java', 'https://stackoverflow.com/questions/42415076/how-to-insert-keras-model-into-scikit-learn-pipeline', 'https://stackoverflow.com/questions/9365982/missing-values-in-scikits-machine-learning', 'https://stackoverflow.com/questions/50560395/how-to-install-cuda-in-google-colab-gpus']\n"
     ]
    }
   ],
   "source": [
    "def get_questions(tag : str, n : int, pause=0.5) -> List[str]:\n",
    "    uri = 'https://stackoverflow.com'\n",
    "    iterations = (n // 50) + 1 # `n` might exceed the number of questions appearing on the first page.\n",
    "    S = requests.Session()\n",
    "    links = []\n",
    "    j=0\n",
    "    for page_index in range(1,iterations+1):\n",
    "        res = S.get(f'{uri}/questions/tagged/{tag}?sort=MostVotes&edited=true&pagesize=50&page={page_index}')\n",
    "        soup = BeautifulSoup(res.text,\"html.parser\")\n",
    "        try:\n",
    "            wrapper_div = soup.find('div', id='questions')\n",
    "            items = wrapper_div.find_all('a', class_='question-hyperlink')\n",
    "        \n",
    "            for i,item in enumerate(items):\n",
    "                if j >= n: break\n",
    "                j +=1\n",
    "                links.append(f'{uri}{item[\"href\"]}')\n",
    "\n",
    "        except AttributeError:\n",
    "            return []\n",
    "        time.sleep(pause)\n",
    "    return links\n",
    "\n",
    "l = get_questions(\"machine-learning\", 300)\n",
    "print(len(l),l)"
   ]
  },
  {
   "cell_type": "code",
   "execution_count": 4,
   "metadata": {},
   "outputs": [
    {
     "name": "stdout",
     "output_type": "stream",
     "text": [
      "https://stackoverflow.com/questions/2480650/what-is-the-role-of-the-bias-in-neural-networks\n",
      "https://stackoverflow.com/questions/879432/what-is-the-difference-between-a-generative-and-a-discriminative-algorithm\n",
      "https://stackoverflow.com/questions/33759623/tensorflow-how-to-save-restore-a-model\n",
      "https://stackoverflow.com/questions/10059594/a-simple-explanation-of-naive-bayes-classification\n",
      "https://stackoverflow.com/questions/307291/how-does-the-google-did-you-mean-algorithm-work\n",
      "https://stackoverflow.com/questions/4752626/epoch-vs-iteration-when-training-neural-networks\n",
      "https://stackoverflow.com/questions/34240703/what-are-logits-what-is-the-difference-between-softmax-and-softmax-cross-entrop\n",
      "https://stackoverflow.com/questions/11632516/what-are-advantages-of-artificial-neural-networks-over-support-vector-machines\n",
      "https://stackoverflow.com/questions/41455101/what-is-the-meaning-of-the-word-logits-in-tensorflow\n",
      "https://stackoverflow.com/questions/1832076/what-is-the-difference-between-supervised-learning-and-unsupervised-learning\n",
      "https://stackoverflow.com/questions/12146914/what-is-the-difference-between-linear-regression-and-logistic-regression\n",
      "https://stackoverflow.com/questions/29831489/convert-array-of-indices-to-1-hot-encoded-numpy-array\n",
      "https://stackoverflow.com/questions/34968722/how-to-implement-the-softmax-function-in-python\n",
      "https://stackoverflow.com/questions/34518656/how-to-interpret-loss-and-accuracy-for-a-machine-learning-model\n",
      "https://stackoverflow.com/questions/13610074/is-there-a-rule-of-thumb-for-how-to-divide-a-dataset-into-training-and-validatio\n",
      "https://stackoverflow.com/questions/2595176/which-machine-learning-classifier-to-choose-in-general\n",
      "https://stackoverflow.com/questions/10592605/save-classifier-to-disk-in-scikit-learn\n",
      "https://stackoverflow.com/questions/598726/overwhelmed-by-machine-learning-is-there-an-ml101-book\n",
      "https://stackoverflow.com/questions/5064928/difference-between-classification-and-clustering-in-data-mining\n",
      "https://stackoverflow.com/questions/42081257/why-binary-crossentropy-and-categorical-crossentropy-give-different-performances\n"
     ]
    }
   ],
   "source": [
    "# example usage\n",
    "result = get_questions(\"machine-learning\", 20)\n",
    "for link in result:\n",
    "    print(link)\n",
    "# expected output\n",
    "# https://stackoverflow.com/questions/2480650/what-is-the-role-of-the-bias-in-neural-networks\n",
    "# https://stackoverflow.com/questions/879432/what-is-the-difference-between-a-generative-and-a-discriminative-algorithm\n",
    "# https://stackoverflow.com/questions/33759623/tensorflow-how-to-save-restore-a-model\n",
    "# https://stackoverflow.com/questions/10059594/a-simple-explanation-of-naive-bayes-classification\n",
    "# https://stackoverflow.com/questions/307291/how-does-the-google-did-you-mean-algorithm-work\n",
    "# https://stackoverflow.com/questions/4752626/epoch-vs-iteration-when-training-neural-networks\n",
    "# https://stackoverflow.com/questions/34240703/what-is-logits-what-is-the-difference-between-softmax-and-softmax-cross-entropy\n",
    "# https://stackoverflow.com/questions/11632516/what-are-advantages-of-artificial-neural-networks-over-support-vector-machines\n",
    "# https://stackoverflow.com/questions/41455101/what-is-the-meaning-of-the-word-logits-in-tensorflow\n",
    "# https://stackoverflow.com/questions/1832076/what-is-the-difference-between-supervised-learning-and-unsupervised-learning\n",
    "# https://stackoverflow.com/questions/12146914/what-is-the-difference-between-linear-regression-and-logistic-regression\n",
    "# https://stackoverflow.com/questions/29831489/convert-array-of-indices-to-1-hot-encoded-numpy-array\n",
    "# https://stackoverflow.com/questions/34968722/how-to-implement-the-softmax-function-in-python\n",
    "# https://stackoverflow.com/questions/34518656/how-to-interpret-loss-and-accuracy-for-a-machine-learning-model\n",
    "# https://stackoverflow.com/questions/13610074/is-there-a-rule-of-thumb-for-how-to-divide-a-dataset-into-training-and-validatio\n",
    "# https://stackoverflow.com/questions/2595176/which-machine-learning-classifier-to-choose-in-general\n",
    "# https://stackoverflow.com/questions/10592605/save-classifier-to-disk-in-scikit-learn\n",
    "# https://stackoverflow.com/questions/598726/overwhelmed-by-machine-learning-is-there-an-ml101-book\n",
    "# https://stackoverflow.com/questions/5064928/difference-between-classification-and-clustering-in-data-mining\n",
    "# https://stackoverflow.com/questions/42081257/why-binary-crossentropy-and-categorical-crossentropy-give-different-performances"
   ]
  },
  {
   "cell_type": "code",
   "execution_count": 5,
   "metadata": {},
   "outputs": [
    {
     "name": "stdout",
     "output_type": "stream",
     "text": [
      "['https://stackoverflow.com/questions/231767/what-does-the-yield-keyword-do', 'https://stackoverflow.com/questions/419163/what-does-if-name-main-do', 'https://stackoverflow.com/questions/394809/does-python-have-a-ternary-conditional-operator']\n"
     ]
    }
   ],
   "source": [
    "# example usage\n",
    "print(get_questions(\"python\", 3))\n",
    "#['https://stackoverflow.com/questions/231767/what-does-the-yield-keyword-do',\n",
    "# 'https://stackoverflow.com/questions/419163/what-does-if-name-main-do',\n",
    "# 'https://stackoverflow.com/questions/394809/does-python-have-a-ternary-conditional-operator']"
   ]
  },
  {
   "cell_type": "markdown",
   "metadata": {},
   "source": [
    "## b) Processing a page\n",
    "\n",
    "A function `parse_question` takes a hyperlink, as a string, to a StackOverflow questions and returns a dictionary containing the text that is produced by the users. This includes the question (+ comments) and the answers (+ comments).\n",
    "\n",
    "The structure of the result is:\n",
    "\n",
    "```python\n",
    "{'title': 'The title',\n",
    " 'question': {'text' : 'How to learn web-mining?',\n",
    "              'comments':['Good question', 'Sounds\\n interesting']},\n",
    " 'answers' : [{'text':'Do a course at CSSH!', \n",
    "               'comments' : ['You will learn a lot', 'Good stuff']},\n",
    "              {'text':'Learn on youtube', 'comments' : []}, ]}\n",
    "```\n",
    "You can also find an example of the  processed page https://stackoverflow.com/questions/12146914/what-is-the-difference-between-linear-regression-and-logistic-regression on moodle.\n",
    "\n",
    "\n",
    "Notice, that the answers might be spread across multiple pages, see:\n",
    "https://stackoverflow.com/questions/231767/what-does-the-yield-keyword-do"
   ]
  },
  {
   "cell_type": "code",
   "execution_count": 6,
   "metadata": {},
   "outputs": [],
   "source": [
    "# todo\n",
    "# [x] question title\n",
    "# [x] question text + comments\n",
    "# [x] parse answer text, not only p and h elements but also lists, <b> etc...\n",
    "\n",
    "def parse_question(link : str) -> Dict:\n",
    "    \n",
    "    # start a new session\n",
    "    S = requests.Session()\n",
    "    \n",
    "    # get number of iterations for answers\n",
    "    res = S.get(link)\n",
    "    soup = BeautifulSoup(res.text, 'html.parser')\n",
    "    try:\n",
    "        answer_count = int(soup.find('div', id='answers-header').find('div').find('div').find('h2')['data-answercount'])\n",
    "        iterations = (answer_count // 30) + 1\n",
    "    except Exception as e:\n",
    "        iterations = 1\n",
    "        \n",
    "    ret = {}\n",
    "    answers = []\n",
    "    \n",
    "    # get title\n",
    "    try:\n",
    "        question_header = soup.find('div', id='question-header')\n",
    "        ret['title'] = question_header.find('a').text\n",
    "    except Exception as e:\n",
    "        ret['title'] = 'title not found'\n",
    "    \n",
    "    # get question + comments\n",
    "    try:\n",
    "        question_div = soup.find('div', class_='question')\n",
    "        content_wrapper = question_div.find_all('div', recursive=False)[1].find_all('div', recursive = False)[1].find('div')\n",
    "        unwanted_divs = content_wrapper.find_all(['div', 'a', 'code', 'img', 'aside'])\n",
    "    except exception as e:\n",
    "        return {}\n",
    "    \n",
    "    # remove unwanted tags\n",
    "    for tag in unwanted_divs:\n",
    "        tag.decompose()\n",
    "    \n",
    "    question = {}\n",
    "    try:\n",
    "        question['text'] = content_wrapper.text\n",
    "    except Exception as e:\n",
    "        question['text'] = 'question content not found'\n",
    "    \n",
    "    try:\n",
    "        comment_list = question_div.find_all('div', recursive=False)[1].find_all('div', recursive=False)[2].find('div').find('ul').find_all('li')\n",
    "    except Exception as e:\n",
    "        comment_list = []\n",
    "        \n",
    "    comments = []\n",
    "    \n",
    "    for comment in comment_list:\n",
    "        try:\n",
    "            comment = comment.find_all('div', recursive=False)[1].find('div').find('span')\n",
    "            unwanted_tags = comment.find_all(['a', 'code', 'img', 'aside'])\n",
    "            for tag in unwanted_tags:\n",
    "                tag.decompose()\n",
    "            comments.append(comment.text)\n",
    "        except Exception as e:\n",
    "            continue\n",
    "    \n",
    "    question['comments'] = comments\n",
    "    ret['question'] = question\n",
    "    \n",
    "    # get answers + comments\n",
    "    # iterate over answer pages (number calculated above)\n",
    "    for page_index in range(1,iterations+1):\n",
    "        # load the respective page\n",
    "        res = S.get(f'{link}?page={page_index}')\n",
    "        soup = BeautifulSoup(res.text, \"html.parser\")\n",
    "        \n",
    "        try:\n",
    "            mainbar_div = soup.find('div', id='mainbar')\n",
    "            answers_div = mainbar_div.find('div', id='answers')\n",
    "            answer_divs = answers_div.find_all('div', class_='answer')\n",
    "        except Exception as e:\n",
    "            continue\n",
    "        \n",
    "        \"\"\"\n",
    "        apparently unnecessary..\n",
    "        try:\n",
    "            accepted_answer = answers_div.find('div', class_='answer accepted_answer')\n",
    "            answer_divs.append(accepted_answer)\n",
    "            \n",
    "        except Exception as e:\n",
    "            pass\n",
    "        \"\"\"\n",
    "        \n",
    "        # iterate over answers on the current page\n",
    "        for answer in answer_divs:\n",
    "            try:\n",
    "                content_wrapper = answer.find('div').find_all('div', recursive=False)[1].find('div')\n",
    "                unwanted_tags = content_wrapper.find_all(['a', 'code', 'img', 'aside'])\n",
    "\n",
    "                for tag in unwanted_tags:\n",
    "                    tag.decompose()\n",
    "\n",
    "                text = ''\n",
    "                tmp = {} \n",
    "                tmp['text'] = content_wrapper.text\n",
    "\n",
    "                comment_list = answer.find('div').find_all('div', recursive=False)[2].find('div').find('ul').find_all('li')\n",
    "                comments = []\n",
    "\n",
    "                # iterate over comments to current answer\n",
    "                for comment in comment_list:\n",
    "                    comment = comment.find_all('div', recursive=False)[1].find('div').find('span')\n",
    "                    unwanted_tags = comment.find_all(['a', 'code', 'img', 'aside'])\n",
    "                    for tag in unwanted_tags:\n",
    "                        tag.decompose()\n",
    "                    comments.append(comment.text)\n",
    "\n",
    "                tmp['comments'] = comments\n",
    "                answers.append(tmp)\n",
    "            except Exception as e:\n",
    "                continue\n",
    "            \n",
    "    ret['answers'] = answers\n",
    "    return ret\n",
    "\n",
    "\n",
    "# parse_question('https://stackoverflow.com/questions/231767/what-does-the-yield-keyword-do')\n",
    "# parse_question('https://stackoverflow.com/questions/12146914/what-is-the-difference-between-linear-regression-and-logistic-regression')"
   ]
  },
  {
   "cell_type": "markdown",
   "metadata": {},
   "source": [
    "### Comment:\n",
    "two possibilities to find the right html elements: either choose class/id of element as search tag (e.g. find('div', id='xyz)) and hope it's unique, i.e. only occurs once on the entire page, or use relative postions, i.e. descend the tree until you are at the right place. The latter option has been chosen here. Neither method is optimal, as ids/classes may not be unique and layouts may vary between different pages and therefore the have different relative positions."
   ]
  },
  {
   "cell_type": "code",
   "execution_count": 7,
   "metadata": {},
   "outputs": [],
   "source": [
    "url = \"https://stackoverflow.com/questions/12146914/what-is-the-difference-between-linear-regression-and-logistic-regression\"\n",
    "result =  parse_question(url)\n",
    "assert type(result) == dict\n",
    "import json\n",
    "with open('example.json', 'w', encoding='utf-8') as file:\n",
    "    json.dump(result, file, ensure_ascii=False)"
   ]
  },
  {
   "cell_type": "code",
   "execution_count": 8,
   "metadata": {},
   "outputs": [],
   "source": [
    "url2 = \"https://stackoverflow.com/questions/231767/what-does-the-yield-keyword-do\""
   ]
  },
  {
   "cell_type": "code",
   "execution_count": 9,
   "metadata": {},
   "outputs": [],
   "source": [
    "result =  parse_question(url2)"
   ]
  },
  {
   "cell_type": "markdown",
   "metadata": {},
   "source": [
    "## c) Bringing it all together\n",
    "\n",
    "A function `process_top_questions` takes a tag and a number `n` that processes the top n questions by votes as explained above. It returns a single list of dicts, one dict for each question. Thereby use the previously defined functions.\n"
   ]
  },
  {
   "cell_type": "code",
   "execution_count": 10,
   "metadata": {},
   "outputs": [],
   "source": [
    "def process_top_questions(tag : str, n : int, pause = 0.5) -> List[Dict]:\n",
    "    questions = get_questions(tag, n, pause)\n",
    "    ret = []\n",
    "    for url in questions:\n",
    "        ret.append(parse_question(url))\n",
    "    \n",
    "    return ret"
   ]
  },
  {
   "cell_type": "code",
   "execution_count": 11,
   "metadata": {},
   "outputs": [],
   "source": [
    "top_questions = process_top_questions('data-mining', 15)"
   ]
  },
  {
   "cell_type": "code",
   "execution_count": 12,
   "metadata": {},
   "outputs": [
    {
     "data": {
      "text/plain": [
       "15"
      ]
     },
     "execution_count": 12,
     "metadata": {},
     "output_type": "execute_result"
    }
   ],
   "source": [
    "len(top_questions)"
   ]
  },
  {
   "cell_type": "code",
   "execution_count": 13,
   "metadata": {},
   "outputs": [],
   "source": [
    "for i, question in enumerate(top_questions):\n",
    "    with open(f'data_mining{i}.json', 'w', encoding='utf-8') as file:\n",
    "        json.dump(question, file, ensure_ascii=False)"
   ]
  }
 ],
 "metadata": {
  "kernelspec": {
   "display_name": "Python 3",
   "language": "python",
   "name": "python3"
  },
  "language_info": {
   "codemirror_mode": {
    "name": "ipython",
    "version": 3
   },
   "file_extension": ".py",
   "mimetype": "text/x-python",
   "name": "python",
   "nbconvert_exporter": "python",
   "pygments_lexer": "ipython3",
   "version": "3.7.4"
  }
 },
 "nbformat": 4,
 "nbformat_minor": 2
}
